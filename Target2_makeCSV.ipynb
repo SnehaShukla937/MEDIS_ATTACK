{
  "nbformat": 4,
  "nbformat_minor": 0,
  "metadata": {
    "accelerator": "GPU",
    "colab": {
      "provenance": []
    },
    "kernelspec": {
      "display_name": "Python 3",
      "name": "python3"
    },
    "language_info": {
      "name": "python"
    }
  },
  "cells": [
    {
      "cell_type": "markdown",
      "source": [
        "###**THIS IS A CODE TO CREATE CSV FOR TARGET2 FOR MEDIS ATTACK.**\n",
        "\n",
        "**TARGET2:** HIGHEST *MEANIOU* BASED TARGET.\n",
        "\n",
        "**OUTPUT:** A csv file contains *nxn* entries; *n* is total number of images for each dataset. Each entry depicts the meanIOU between row image to column image.\n",
        "\n",
        "**NOTE:** we set the diagonal entries as -1. (Target should not be similar to the actual image for adversarial attack)\n"
      ],
      "metadata": {
        "id": "gQJVjMLI9n8h"
      }
    },
    {
      "cell_type": "code",
      "source": [
        "from google.colab import drive\n",
        "drive.mount('/content/drive')"
      ],
      "metadata": {
        "colab": {
          "base_uri": "https://localhost:8080/"
        },
        "id": "C_jkier07p1I",
        "outputId": "24f8ada5-f79b-41a6-9d16-b47596cddc7a"
      },
      "execution_count": null,
      "outputs": [
        {
          "output_type": "stream",
          "name": "stdout",
          "text": [
            "Mounted at /content/drive\n"
          ]
        }
      ]
    },
    {
      "cell_type": "markdown",
      "metadata": {
        "id": "cnaCgBzH1kWA"
      },
      "source": [
        "# **PraNet (Polyp)**"
      ]
    },
    {
      "cell_type": "code",
      "metadata": {
        "id": "5oqlLD4B88ET"
      },
      "source": [
        "import os\n",
        "os.chdir('/content/drive/MyDrive/PraNet/')"
      ],
      "execution_count": null,
      "outputs": []
    },
    {
      "cell_type": "code",
      "metadata": {
        "id": "i7cO0c42emHQ"
      },
      "source": [
        "# IMPORT ALL REQUIRED LIBRARIES\n",
        "import os\n",
        "import numpy as np\n",
        "from utils.dataloader import test_dataset,transforms\n",
        "from PIL import Image\n",
        "import torch\n",
        "import pandas as pd\n",
        "from tqdm.auto import tqdm\n",
        "from sklearn.metrics import confusion_matrix\n",
        "from csv import DictReader"
      ],
      "execution_count": null,
      "outputs": []
    },
    {
      "cell_type": "code",
      "metadata": {
        "id": "Dtn-orPPpzUn"
      },
      "source": [
        "# SET DEVICE\n",
        "use_cuda = True\n",
        "device = torch.device(\"cuda\" if (use_cuda and torch.cuda.is_available()) else \"cpu\")"
      ],
      "execution_count": null,
      "outputs": []
    },
    {
      "cell_type": "code",
      "metadata": {
        "id": "97L4rikbh9PI"
      },
      "source": [
        "# FUNCTION TO LOAD DATA AND COMPUTE METRIC\n",
        "def mask_loader(path,testdata):\n",
        "   with open(path, 'rb') as f:\n",
        "    img = Image.open(f)\n",
        "    mask = img.convert('L')\n",
        "    if testdata == 'Kvasir':\n",
        "      resize = transforms.Resize((500,540))\n",
        "      mask = resize(mask) # for kvasir data only\n",
        "    mask = np.asarray(mask, np.float32)\n",
        "    mask /= (mask.max() + 1e-8)\n",
        "    mask = torch.from_numpy(mask).to(device)\n",
        "    return mask\n",
        "\n",
        "def compute_iou(prediction, target):\n",
        "  y_pred = prediction.flatten()\n",
        "  y_true = target.flatten()\n",
        "  current = confusion_matrix(y_true.round(), y_pred.round(), labels=[0, 1])\n",
        "  intersection = np.diag(current)\n",
        "  ground_truth_set = current.sum(axis=1)\n",
        "  predicted_set = current.sum(axis=0)\n",
        "  union = ground_truth_set + predicted_set - intersection\n",
        "  IoU = intersection / union.astype(np.float32)\n",
        "  MeanIoU = np.nanmean(IoU)\n",
        "  return round(MeanIoU,3)"
      ],
      "execution_count": null,
      "outputs": []
    },
    {
      "cell_type": "code",
      "metadata": {
        "id": "Eq-cFdSdd9wB"
      },
      "source": [
        "# MAIN FILE FOR POLYP\n",
        "for testdata in tqdm(['CVC-300', 'CVC-ClinicDB','CVC-ColonDB', 'Kvasir']):\n",
        "  path = 'TestDataset/'+testdata+'/masks/' # path to dataset\n",
        "  data = os.listdir(path) # a list of all filename in dataset\n",
        "  d = {}\n",
        "  header = ['Base Image']\n",
        "  masks = []\n",
        "  for i in tqdm(data): # loop over all data for row\n",
        "    header.append(str(i))\n",
        "    value = []\n",
        "    mask1 = mask_loader(path+str(i),testdata)\n",
        "    for j in data: # loop over all data for column\n",
        "      if i == j:\n",
        "        value.append(-1)\n",
        "        continue\n",
        "      mask2 = mask_loader(path+str(j),testdata)\n",
        "      mIoU = round(torch.tensor([compute_iou(mask1.cpu().numpy(),mask2.cpu().numpy())]).item(),4)\n",
        "      value.append(mIoU)\n",
        "    d.update({i:value})\n",
        "  filename = '/content/drive/MyDrive/PraNet/code_check_medis/' + str(testdata) + '_target2.csv' # csv file name\n",
        "  pd.DataFrame(d).T.reset_index().to_csv(filename, header=header, index=False)\n",
        "print('Done!')"
      ],
      "execution_count": null,
      "outputs": []
    },
    {
      "cell_type": "markdown",
      "metadata": {
        "id": "NXlKqBqf5Xxk"
      },
      "source": [
        "# **Skin Lesion (Melanoma)**"
      ]
    },
    {
      "cell_type": "code",
      "metadata": {
        "id": "fNNK5qtk5hqS"
      },
      "source": [
        "# MAIN FILE FOR SKIN LESION\n",
        "path = 'melanomaData/testy/' # path to dataset\n",
        "data = os.listdir(path) # a list of all filename in dataset\n",
        "d = {}\n",
        "header = ['Base Image']\n",
        "masks = []\n",
        "for i in tqdm(data):\n",
        "  header.append(str(i))\n",
        "  value = []\n",
        "  mask1 = mask_loader(path+str(i),None)\n",
        "  for j in data:\n",
        "    if i == j:\n",
        "      value.append(-1)\n",
        "      continue\n",
        "    mask2 = mask_loader(path+str(j),None)\n",
        "    mIoU = round(torch.tensor([compute_iou(mask1.detach().cpu().numpy(),mask2.detach().cpu().numpy())]).item(),4)\n",
        "    value.append(mIoU)\n",
        "  d.update({i:value})\n",
        "filename = '/content/drive/MyDrive/PraNet/code_check_medis/skin_lesion_target2.csv' # csv file name\n",
        "pd.DataFrame(d).T.reset_index().to_csv(filename, header=header, index=False)\n",
        "print('Done!')"
      ],
      "execution_count": null,
      "outputs": []
    }
  ]
}