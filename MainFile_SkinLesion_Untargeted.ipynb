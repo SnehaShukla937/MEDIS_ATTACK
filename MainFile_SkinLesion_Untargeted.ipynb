{
  "nbformat": 4,
  "nbformat_minor": 0,
  "metadata": {
    "colab": {
      "provenance": []
    },
    "kernelspec": {
      "name": "python3",
      "display_name": "Python 3"
    },
    "language_info": {
      "name": "python"
    },
    "accelerator": "GPU"
  },
  "cells": [
    {
      "cell_type": "markdown",
      "source": [
        "THIS IS A CODE TO CREATE CSV FOR MEDIS ATTACK OUTPUT IN UNTARGETED ATTACK SETTINGS FOR 10 STEPS.\n",
        "\n",
        "[SKIN-LESION SEGMENTATION TASK]"
      ],
      "metadata": {
        "id": "ARXGf8UrY0bv"
      }
    },
    {
      "cell_type": "code",
      "metadata": {
        "colab": {
          "base_uri": "https://localhost:8080/"
        },
        "id": "On4834Eq1QlM",
        "outputId": "18a9b735-c315-4e80-8775-f9a7ceff64a8"
      },
      "source": [
        "%load_ext autoreload\n",
        "%autoreload 2\n",
        "from google.colab import drive\n",
        "drive.mount('/content/drive')"
      ],
      "execution_count": null,
      "outputs": [
        {
          "output_type": "stream",
          "name": "stdout",
          "text": [
            "Mounted at /content/drive\n"
          ]
        }
      ]
    },
    {
      "cell_type": "code",
      "metadata": {
        "id": "VdzYVdoS3T11"
      },
      "source": [
        "import os,random\n",
        "os.chdir('/content/drive/MyDrive/PraNet/')"
      ],
      "execution_count": null,
      "outputs": []
    },
    {
      "cell_type": "code",
      "metadata": {
        "id": "lcYpZqiYFFb8"
      },
      "source": [
        "!pip install pytorch-msssim\n",
        "!pip install kornia"
      ],
      "execution_count": null,
      "outputs": []
    },
    {
      "cell_type": "code",
      "metadata": {
        "colab": {
          "base_uri": "https://localhost:8080/"
        },
        "id": "gsB3MXJWbzB8",
        "outputId": "21bc6fb3-10b2-4da9-a492-90ee8bec8afe"
      },
      "source": [
        "# IMPORT ALL REQUIRED LIBRARIES\n",
        "import torch\n",
        "import torch.nn as nn\n",
        "import torch.nn.functional as F\n",
        "import numpy as np\n",
        "import pandas as pd\n",
        "import os, argparse\n",
        "from scipy import misc\n",
        "from lib.PraNet_Res2Net import PraNet\n",
        "from utils.dataloader import test_dataset,transforms\n",
        "import imageio # change\n",
        "import io\n",
        "import cv2\n",
        "import torch.nn.functional as nnf\n",
        "from skimage import img_as_ubyte\n",
        "#from torch.autograd.gradcheck import zero_gradients\n",
        "import matplotlib.pyplot as plt\n",
        "from torchvision.utils import save_image\n",
        "from tqdm.notebook import tqdm\n",
        "from google.colab.patches import cv2_imshow\n",
        "from sklearn.metrics import confusion_matrix\n",
        "from pytorch_msssim import ssim, ms_ssim, SSIM, MS_SSIM\n",
        "import kornia\n",
        "from LovaszSoftmax.pytorch import lovasz_losses as L\n",
        "import csv\n",
        "from csv import DictReader\n",
        "from PIL import Image\n",
        "import warnings\n",
        "warnings.filterwarnings('ignore')\n",
        "\n",
        "# SET PATH AND VARIABLES\n",
        "use_cuda = True\n",
        "pretrained_model = 'snapshots/melanoma_model/Melanoma-19.pth'\n",
        "test_dataset_path = 'melanomaData/'\n",
        "save_result_path = '/content/drive/MyDrive/PraNet/code_check_medis/attack_10steps_results/'\n",
        "\n",
        "# SET DEVICE\n",
        "print(\"CUDA Available: \", torch.cuda.is_available())\n",
        "device = torch.device(\"cuda\" if (use_cuda and torch.cuda.is_available()) else \"cpu\")"
      ],
      "execution_count": null,
      "outputs": [
        {
          "output_type": "stream",
          "name": "stdout",
          "text": [
            "CUDA Available:  True\n"
          ]
        }
      ]
    },
    {
      "cell_type": "code",
      "metadata": {
        "id": "c9C9GxbrSLdL"
      },
      "source": [
        "# GET MODEL\n",
        "%%capture\n",
        "model = PraNet().to(device) # Define Model\n",
        "model.load_state_dict(torch.load(pretrained_model )) # Load pretrained model\n",
        "model.eval() # Set the model in evaluation mode"
      ],
      "execution_count": null,
      "outputs": []
    },
    {
      "cell_type": "code",
      "metadata": {
        "id": "LXzxSqpMICbq"
      },
      "source": [
        "# ALL REQUIRED METHODS\n",
        "\n",
        "\n",
        "#_______________________GET PREDICTION__________________________#\n",
        "\n",
        "def get_prediction(result,target):\n",
        "  res = result\n",
        "  res = F.upsample(res, size=target.shape, mode='bilinear', align_corners=False)\n",
        "  res = res.sigmoid().squeeze()\n",
        "  res = (res - res.min()) / (res.max() - res.min() + 1e-8)\n",
        "  return res\n",
        "\n",
        "#_______________________CALCULATE METRICS__________________________#\n",
        "\n",
        "def calculate_metrics(prediction,target,metricName):\n",
        "\n",
        "  #____________mean Iou___________#\n",
        "  if metricName is 'MeanIoU':\n",
        "    y_pred = prediction.flatten()\n",
        "    y_true = target.flatten()\n",
        "    current = confusion_matrix(y_true.round(), y_pred.round(), labels=[0, 1])\n",
        "    intersection = np.diag(current)\n",
        "    ground_truth_set = current.sum(axis=1)\n",
        "    predicted_set = current.sum(axis=0)\n",
        "    union = ground_truth_set + predicted_set - intersection\n",
        "    IoU = intersection / union.astype(np.float32)\n",
        "    MeanIoU = np.nanmean(IoU)\n",
        "    return round(MeanIoU,3)\n",
        "\n",
        "  #____________ dice___________#\n",
        "  elif metricName is 'Dice':\n",
        "    intersection = 2.0 * (prediction * target).sum()\n",
        "    union = prediction.sum() + target.sum()\n",
        "    if prediction.sum() == 0 and target.sum() == 0:\n",
        "      Dice = 1.0\n",
        "    else:\n",
        "      Dice = intersection / union\n",
        "    return Dice\n",
        "\n",
        "\n",
        "#_______________________CALCULATE LOSS__________________________#\n",
        "\n",
        "def calculate_loss(prediction,target,Loss):\n",
        "  bce = nn.BCELoss()\n",
        "  if Loss is 'wBCE_wIoU_Loss': #__________weighted bce + weighted iou___________\n",
        "    z = (1,1)\n",
        "    target = torch.reshape(target,z + target.shape)\n",
        "    prediction = torch.reshape(prediction,z + prediction.shape)\n",
        "    weit = 1 +  5*torch.abs(F.avg_pool2d(target, kernel_size=31, stride=1, padding=15) - target)\n",
        "    wbce = F.binary_cross_entropy_with_logits(prediction, target, reduce='none')\n",
        "    wbce = (weit*wbce).sum(dim=(2, 3)) / weit.sum(dim=(2, 3))\n",
        "    prediction = torch.sigmoid(prediction)\n",
        "    inter = ((prediction * target)*weit).sum(dim=(2, 3))\n",
        "    union = ((prediction + target)*weit).sum(dim=(2, 3))\n",
        "    wiou = 1 - (inter + 1)/(union - inter+1)\n",
        "    loss = (wbce + wiou).mean()\n",
        "\n",
        "  elif Loss is 'Lovasz_Hinge_Loss': #__________lovasz_hinge___________\n",
        "    loss = L.lovasz_hinge(prediction, target, per_image = True,ignore=None)\n",
        "\n",
        "  elif Loss is 'Log_Cosh_Dice_Loss': #__________logcoshdice___________\n",
        "    loss = torch.log(torch.cosh(1-calculate_metrics(prediction,target,'Dice')))\n",
        "\n",
        "\n",
        "  elif Loss is 'BCE_Dice_Loss': #__________bce_dice___________\n",
        "    loss = bce(prediction,target) + (1-calculate_metrics(prediction,target,'Dice'))\n",
        "\n",
        "  elif Loss is 'Exponential_Log_Loss': #__________exponential_log___________\n",
        "    gamma = 2.0\n",
        "    a = 0.5\n",
        "    L_dice = torch.mean((-torch.log(1-calculate_metrics(prediction,target,'Dice')))**gamma)\n",
        "    L_bce = torch.mean((-torch.log(bce(prediction,target)))**gamma)\n",
        "    loss = (a) *  L_dice + (1-a) * L_bce\n",
        "  return loss\n",
        "\n",
        "#_______________________SAVE METRICS__________________________#\n",
        "\n",
        "def save_metrics(metrics,final_m,lossName):\n",
        "  os.makedirs(save_result_path + '/skin_lesion/', exist_ok = True)\n",
        "  os.makedirs(save_result_path + '/skin_lesion/' + lossName + '/', exist_ok = True)\n",
        "  fileName = save_result_path +  '/skin_lesion/' + lossName+'/Untargeted_predGT.csv'\n",
        "  Header = ['Input', 'GT']\n",
        "  for i in range(10):\n",
        "    Header.append('Step')\n",
        "    Header.append(lossName)\n",
        "    Header.extend(metrics)\n",
        "  with open(fileName, 'w') as f:\n",
        "    write = csv.writer(f) # using csv.writer method from CSV package\n",
        "    write.writerow(Header)\n",
        "    write.writerows(final_m)"
      ],
      "execution_count": null,
      "outputs": []
    },
    {
      "cell_type": "code",
      "metadata": {
        "id": "GL5GOdQZKNV1"
      },
      "source": [
        "# BASIC OPERATION\n",
        "\n",
        "def skinlesion_attack(metrics,lossName,save_result):\n",
        "  data_path = test_dataset_path  # 'melanomaData/'\n",
        "  input_adv = None\n",
        "  final_m = []\n",
        "\n",
        "\n",
        "  # load input image and ground truth mask with size (352,352)\n",
        "  image_root = '{}/testx/'.format(data_path)\n",
        "  gt_root = '{}/testy/'.format(data_path)\n",
        "  test_loader = test_dataset(image_root, gt_root, testsize = 352)\n",
        "  print('\\nImage count:')\n",
        "\n",
        "  # start process\n",
        "  for i in tqdm(range(test_loader.size)): # loop over all images\n",
        "    img, gt, name_img, name_gt = test_loader.load_dataM()\n",
        "    img = img.to(device)\n",
        "    img_unaltered = img.clone().detach().requires_grad_(True)\n",
        "\n",
        "    # Ground Truth\n",
        "    gt = np.asarray(gt, np.float32)\n",
        "    gt /= (gt.max() + 1e-8)\n",
        "    gt = torch.from_numpy(gt).to(device)\n",
        "\n",
        "\n",
        "    # IGSM Attack\n",
        "    m = []  # to save step wise metrics\n",
        "    mean_IoU = 1.0\n",
        "    step = 0\n",
        "    m.append(name_img) # for csv (saving purpose)\n",
        "    m.append(name_gt) # for csv (saving purpose) # changed after saving\n",
        "\n",
        "    while step < 10 and mean_IoU > 0.2:  # loop for IGSM target attack\n",
        "      m.append(step+1) # for csv (saving purpose)\n",
        "      img.requires_grad_(True)  # set grad\n",
        "      x1 = kornia.geometry.resize(img,((352,352))) # resize image\n",
        "      x2 = kornia.augmentation.Normalize(torch.tensor([0.485,0.456,0.406]),torch.tensor([0.229,0.224,0.225]))(x1) # normalization\n",
        "      # get prediction\n",
        "      res5, res4, res3, res2 = model(x2)\n",
        "      prediction1 = get_prediction(res2,gt)\n",
        "      prediction2 = get_prediction(res3,gt)\n",
        "      prediction3 = get_prediction(res4,gt)\n",
        "      prediction4 = get_prediction(res5,gt)\n",
        "      prediction = (prediction1 + prediction2 + prediction3 + prediction4)/4.0  # total Prediction\n",
        "      mean_IoU = calculate_metrics(prediction.detach().cpu().numpy(),gt.detach().cpu().numpy(),metricName = 'MeanIoU') # calculate mIoU\n",
        "\n",
        "      # get loss\n",
        "      if lossName is 'Combined_Loss':\n",
        "        loss1 = calculate_loss(prediction1,gt,'wBCE_wIoU_Loss')\n",
        "        loss2 = calculate_loss(prediction2,gt,'wBCE_wIoU_Loss')\n",
        "        loss3 = calculate_loss(prediction3,gt,'wBCE_wIoU_Loss')\n",
        "        loss4 = calculate_loss(prediction4,gt,'wBCE_wIoU_Loss')\n",
        "        lossA = loss1 + loss2 + loss3 + loss4\n",
        "\n",
        "        lossB = calculate_loss(prediction,gt,'Log_Cosh_Dice_Loss')\n",
        "        lossC = calculate_loss(prediction,gt,'BCE_Dice_Loss')\n",
        "        lossD = calculate_loss(prediction,gt,'Exponential_Log_Loss')\n",
        "        lossE = calculate_loss(prediction,gt,'Lovasz_Hinge_Loss')\n",
        "\n",
        "        loss = 0.21 * lossA + 0.18 * lossB + 0.20 * lossC + 0.15 * lossD + 0.26 * lossE # combined loss\n",
        "\n",
        "      elif lossName is 'wBCE_wIoU_Loss':\n",
        "        loss1 = calculate_loss(prediction1,gt,lossName)\n",
        "        loss2 = calculate_loss(prediction2,gt,lossName)\n",
        "        loss3 = calculate_loss(prediction3,gt,lossName)\n",
        "        loss4 = calculate_loss(prediction4,gt,lossName)\n",
        "        loss = loss1 + loss2 + loss3 + loss4\n",
        "      else:\n",
        "        loss = calculate_loss(prediction,gt,lossName)\n",
        "     # print(loss)\n",
        "      model.zero_grad() # make grad zero\n",
        "      loss.backward() # calculate gradients\n",
        "      perturbation = (0.003922 * torch.sign(img.grad)) #  calculate perturbation\n",
        "      input_adv = img.data # saving last input\n",
        "      img.data = (img.data + perturbation).clamp(0.0,1.0) # apply perturbation into image\n",
        "      img.grad.data.zero_() # make x_grad zero\n",
        "      # get metrics\n",
        "      m.append(round(loss.item(),3))\n",
        "      for metricName in metrics: # loop for 4 metrics\n",
        "        measure = calculate_metrics(prediction.detach().cpu().numpy(),gt.detach().cpu().numpy(),metricName) # pred with target\n",
        "        m.append(measure)\n",
        "      step+=1\n",
        "    final_m.append(m)\n",
        "  if save_result :\n",
        "    save_metrics(metrics,final_m,lossName) # save metrics in csv"
      ],
      "execution_count": null,
      "outputs": []
    },
    {
      "cell_type": "code",
      "metadata": {
        "id": "8PWl9g0rYUHt"
      },
      "source": [
        "# starts from here..\n",
        "\n",
        "save_result = True\n",
        "metrics = ['MeanIoU']\n",
        "lossNames = ['Log_Cosh_Dice_Loss','BCE_Dice_Loss', 'Exponential_Log_Loss', 'wBCE_wIoU_Loss', 'Lovasz_Hinge_Loss','Combined_Loss']\n",
        "\n",
        "for lossName in tqdm(lossNames):\n",
        "  skinlesion_attack(metrics,lossName,save_result) # call main function"
      ],
      "execution_count": null,
      "outputs": []
    }
  ]
}