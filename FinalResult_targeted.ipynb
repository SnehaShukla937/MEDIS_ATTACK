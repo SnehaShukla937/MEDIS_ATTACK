{
  "nbformat": 4,
  "nbformat_minor": 0,
  "metadata": {
    "colab": {
      "provenance": []
    },
    "kernelspec": {
      "name": "python3",
      "display_name": "Python 3"
    },
    "language_info": {
      "name": "python"
    }
  },
  "cells": [
    {
      "cell_type": "markdown",
      "source": [
        "THIS IS A CODE TO CREATE CSV FOR MEDIS ATTACK FINAL OUTPUT (ATTACK SUCCESS RATE, AVERAGE DISTORTION) WITH AND WITHOUT PARALLEL FUSION IN TARGETED ATTACK SETTINGS."
      ],
      "metadata": {
        "id": "UkPvCbnpamPL"
      }
    },
    {
      "cell_type": "code",
      "metadata": {
        "id": "eqBDcq-VFX-p"
      },
      "source": [
        "import os\n",
        "os.chdir('/content/drive/MyDrive/')"
      ],
      "execution_count": null,
      "outputs": []
    },
    {
      "cell_type": "code",
      "metadata": {
        "id": "r_3aw2x89pIe"
      },
      "source": [
        "# IMPORT PACKAGES\n",
        "\n",
        "import pandas as pd\n",
        "import numpy as np\n",
        "import csv\n",
        "import torch\n",
        "import copy\n",
        "import sys\n",
        "import warnings\n",
        "warnings.filterwarnings('ignore')"
      ],
      "execution_count": null,
      "outputs": []
    },
    {
      "cell_type": "code",
      "metadata": {
        "id": "PNHz2CNDB3jc"
      },
      "source": [
        "# FUNCTION TO GET DATA FROM SAVED CSV FILE\n",
        "\n",
        "def get_data_from_csv(folder,dataset,loss,target):\n",
        "  if dataset is None:\n",
        "    fileName = '{0}/{1}/target{2}_predTarget.csv'.format(folder,loss,target)\n",
        "  else:\n",
        "    fileName = '{0}/{1}/{2}/target{3}_predTarget.csv'.format(folder,dataset,loss,target)\n",
        "  df = pd.read_csv(fileName,index_col='Input Image')\n",
        "  cols = df.columns # column\n",
        "  rows = df.index   # row\n",
        "  for i in range(2,len(cols)): # replace 'Nan' values with '0' in csv dataframe\n",
        "    df[cols[i]]  = df[cols[i]].fillna(0)\n",
        "  return df,cols,rows\n"
      ],
      "execution_count": null,
      "outputs": []
    },
    {
      "cell_type": "code",
      "metadata": {
        "id": "oZzK93KLp8dx"
      },
      "source": [
        "def ModificationForIoU(dataFrame,columns):\n",
        "  miou_columns = ['MeanIoU','MeanIoU.1','MeanIoU.2','MeanIoU.3','MeanIoU.4','MeanIoU.5','MeanIoU.6','MeanIoU.7','MeanIoU.8','MeanIoU.9']\n",
        "  for column in miou_columns:\n",
        "    dataFrame[column] = dataFrame[column].apply(lambda x:x*2 if x != 1 else x)\n",
        "    #print(dataFrame[column])\n",
        "  return dataFrame"
      ],
      "execution_count": null,
      "outputs": []
    },
    {
      "cell_type": "code",
      "metadata": {
        "id": "yNSGSYw4kTo5"
      },
      "source": [
        "# FUNCTION TO GET AVERAGE OF A LIST OF LIST\n",
        "\n",
        "def get_avg(y):\n",
        "  step_avg = []\n",
        "  miou_avg = []\n",
        "  final_val = []\n",
        " # if failed_cases + len(y) == len(rows): # check....failed case + success case = total no. of images\n",
        "  for a in range(len(y)): # loop for all success cases\n",
        "    step_avg.append(y[a][1])\n",
        "    miou_avg.append(y[a][2])\n",
        "  metrics = [step_avg,miou_avg]\n",
        "  for m in metrics:\n",
        "    final_val.append(np.round(np.average(m),3))\n",
        "  return final_val\n"
      ],
      "execution_count": null,
      "outputs": []
    },
    {
      "cell_type": "code",
      "metadata": {
        "id": "f0gID0xlkWES"
      },
      "source": [
        "# FUNCTION TO GET INITIAL RESULT\n",
        "\n",
        "def get_result(df,columns,rows,l_inf,threshold,parallel_fusion):\n",
        "  y = []\n",
        "  success_cases = 0\n",
        "  for row in rows: # loop for each row\n",
        "    x = []\n",
        "    r = df.loc[row] # get complete row information(entries)\n",
        "    x.append(row)\n",
        "    for i in range(1,l_inf): # loop for all steps upto l_inf\n",
        "      # condition for first step\n",
        "      if (r['MeanIoU'] >= threshold): # check if mean iou is greater than threshold\n",
        "        x.extend([r['Step'],r['MeanIoU']])  # only for mean iou and dice\n",
        "        success_cases += 1\n",
        "        y.append(x)\n",
        "        break\n",
        "      # condition for other steps\n",
        "      elif (r['Step.'+str(i)] < l_inf+1) and ((r['MeanIoU.'+str(i)] >= threshold)):\n",
        "        x.extend([r['Step.'+str(i)],r['MeanIoU.'+str(i)]])\n",
        "        success_cases += 1\n",
        "        y.append(x)\n",
        "        break\n",
        "\n",
        "  if parallel_fusion:\n",
        "    return y,success_cases\n",
        "\n",
        "  else:\n",
        "    final_val = get_avg(y)\n",
        "    return final_val,success_cases\n"
      ],
      "execution_count": null,
      "outputs": []
    },
    {
      "cell_type": "code",
      "metadata": {
        "id": "tvJPA7807xTt"
      },
      "source": [
        "# FUNCTION TO GET RESULT WITHOUT PARALLEL FUSION\n",
        "\n",
        "def calculate_metrics_without_parellelFusion(folder,dataset,l_inf,threshold,parallel_fusion):\n",
        "  losses = ['Log_Cosh_Dice_Loss','BCE_Dice_Loss', 'Exponential_Log_Loss', 'wBCE_wIoU_Loss', 'Lovasz_Hinge_Loss','Combined_Loss']\n",
        "  loss_result = []\n",
        "  for loss in losses:\n",
        "    if dataset == None:\n",
        "      target_result = ['Skin_Lesion', loss]\n",
        "    else:\n",
        "      target_result = [dataset,loss]\n",
        "    for target in range(1,5):\n",
        "      dataFrame,columns,rows = get_data_from_csv(folder,dataset,loss,target) # get csv\n",
        "      if target == 3 or target == 4: # change mIoU to IoU for target 3 and 4\n",
        "        dataFrame = ModificationForIoU(dataFrame,columns)\n",
        "      final_val,success_count = get_result( dataFrame,columns,rows,l_inf,threshold,parallel_fusion)\n",
        "      step, miou = final_val\n",
        "      attack_success_rate = round(( success_count / len(rows) ) * 100, 2)\n",
        "      target_result.extend([attack_success_rate,step]) # append values for each target\n",
        "    loss_result.append(target_result) # append values for each loss\n",
        "  final_result = []\n",
        "  final_result.extend(loss_result) # get final list of list\n",
        "\n",
        "  return final_result"
      ],
      "execution_count": null,
      "outputs": []
    },
    {
      "cell_type": "code",
      "metadata": {
        "id": "kzhl2kNVmrAL"
      },
      "source": [
        "# FUNCTION TO GET RESULT WITH PARALLEL FUSION\n",
        "\n",
        "def calculate_metrics_with_parellelFusion(folder,dataset,l_inf,threshold,parallel_fusion):\n",
        "  losses = ['Log_Cosh_Dice_Loss','BCE_Dice_Loss', 'Exponential_Log_Loss', 'wBCE_wIoU_Loss', 'Lovasz_Hinge_Loss','Combined_Loss']\n",
        "  if dataset == None:\n",
        "    target_result = ['Skin_Lesion']\n",
        "  else:\n",
        "    target_result = [dataset]\n",
        "\n",
        "  for target in range(1,5): # loop for each target\n",
        "    all_images_info = {}\n",
        "    for loss in losses: # loop for each loss\n",
        "      dataFrame,columns,rows = get_data_from_csv(folder,dataset,loss,target) # get csv\n",
        "      if target == 3 or target == 4: # change mIoU to IoU for target 3 and 4\n",
        "        dataFrame = ModificationForIoU(dataFrame,columns)\n",
        "      final_val,success_count = get_result(dataFrame,columns,rows,l_inf,threshold,parallel_fusion)\n",
        "      all_images_info.update({loss:final_val}) # a dict with loss(str) as key and metrics(list of list) as values; length(dict) = no.of losses\n",
        "\n",
        "    image_wise_all_loss_metrics = {}\n",
        "    D = copy.deepcopy(all_images_info)\n",
        "    for loss_name, value_list in D.items(): # loop for each key,value in all_images_info\n",
        "      for idx, metrics_array in enumerate(value_list): # loop for each entry in value list\n",
        "        image_name = metrics_array[0] # get image name\n",
        "        metrics_array.insert(0, loss_name) # insert loss name as first entry in each list of value list\n",
        "        if image_name not in image_wise_all_loss_metrics:\n",
        "          metrics_array_without_name = copy.deepcopy(metrics_array)  # a list of all metrics with loss name at 0 and image name at 1 position\n",
        "          del metrics_array_without_name[1] # remove image name from list\n",
        "          image_wise_all_loss_metrics[image_name] = [metrics_array_without_name] # a dict with 'image_name' as key and 'metrics_array_without_name' as values\n",
        "        else:\n",
        "          metrics_array_without_name = copy.deepcopy(metrics_array)\n",
        "          del metrics_array_without_name[1]\n",
        "          image_wise_all_loss_metrics[image_name].append(metrics_array_without_name)  #\n",
        "\n",
        "    avg_list = []\n",
        "    for image_name,metric_list in image_wise_all_loss_metrics.items(): # loop for each entry in 'image_wise_all_loss_metrics'\n",
        "      t = sorted(metric_list, key=lambda e: (e[1],-e[2])) # sorting the values based on least distortion and highest mIoU\n",
        "      avg_list.append(t[0]) # append first entry to avg_list (list of list)\n",
        "\n",
        "    Parellel_Fusion_final_result = get_avg(avg_list) # get avg of each list in avg_list\n",
        "    step,miou = Parellel_Fusion_final_result\n",
        "    attack_success_rate = round(( len(avg_list) / len(rows) ) * 100, 2)\n",
        "    target_result.append(attack_success_rate) # append attack success rate\n",
        "    target_result.append(step) # append step\n",
        "  final_result = []\n",
        "  final_result.extend([target_result])  # get final list of list\n",
        "\n",
        "  return final_result"
      ],
      "execution_count": null,
      "outputs": []
    },
    {
      "cell_type": "code",
      "metadata": {
        "id": "FvSKZSvyKYpE"
      },
      "source": [
        "# STARTS FROM HERE.......SET VARIABLES AND CALL FUNCTIONS......\n",
        "\n",
        "l_inf = 10\n",
        "threshold  = 0.45\n",
        "parallel_fusion = True  # or False\n",
        "result_folder = '/content/drive/MyDrive/Final_result_medis/' # folder where result will save\n",
        "folder = ['/content/drive/MyDrive/PraNet/code_check_medis/attack_10steps_results/polyp/', '/content/drive/MyDrive/PraNet/code_check_medis/attack_10steps_results/skin_lesion/']\n",
        "testdataset = ['CVC-300','CVC-ClinicDB','CVC-ColonDB','Kvasir']\n",
        "\n",
        "if parallel_fusion: # get result if parallel fusion is True\n",
        "  fileName = result_folder + 'with_pf_targeted.csv'   # filename for saved result\n",
        "  Header1 = ['Dataset']\n",
        "  Header2 = ['']\n",
        "  for i in range(1,5):\n",
        "    Header1.extend(['Target '+str(i),''])\n",
        "    Header2.extend(['Attack Success Rate(%)','Distortion'])\n",
        "  with open(fileName, 'w') as f:\n",
        "    write = csv.writer(f) # using csv.writer method from CSV package\n",
        "    write.writerow(Header1)\n",
        "    write.writerow(Header2)\n",
        "    for f in folder:\n",
        "      if f == '/content/drive/MyDrive/PraNet/code_check_medis/attack_10steps_results/polyp/':\n",
        "          for dataset in testdataset:\n",
        "            final_result = calculate_metrics_with_parellelFusion(folder=f,dataset=dataset,l_inf=l_inf,threshold=threshold,parallel_fusion=parallel_fusion)\n",
        "            write.writerows(final_result)  # save result in csv\n",
        "      else:\n",
        "        final_result = calculate_metrics_with_parellelFusion(folder=f,dataset=None,l_inf=l_inf,threshold=threshold,parallel_fusion=parallel_fusion)\n",
        "        write.writerows(final_result) # save result in csv\n",
        "\n",
        "    print('csv done for result with parallel fusion!!!')\n",
        "\n",
        "\n",
        "else: # get result if parallel fusion is False\n",
        "  fileName = result_folder + 'without_pf_targeted.csv' # filename for saved result\n",
        "  Header1 = ['Dataset', 'Loss']\n",
        "  Header2 = ['','']\n",
        "\n",
        "  for i in range(1,5):\n",
        "    Header1.extend(['Target '+str(i),''])\n",
        "    Header2.extend(['Attack Success Rate(%)','Distortion'])\n",
        "  with open(fileName, 'w') as f:\n",
        "    write = csv.writer(f) # using csv.writer method from CSV package\n",
        "    write.writerow(Header1)\n",
        "    write.writerow(Header2)\n",
        "    for f in folder:\n",
        "      if f == '/content/drive/MyDrive/PraNet/code_check_medis/attack_10steps_results/polyp/':\n",
        "        for dataset in testdataset:\n",
        "          final_result = calculate_metrics_without_parellelFusion(folder=f,dataset=dataset,l_inf=l_inf,threshold=threshold,parallel_fusion=parallel_fusion)\n",
        "          write.writerows(final_result) # save result in csv\n",
        "      else:\n",
        "        final_result = calculate_metrics_without_parellelFusion(folder=f,dataset=None,l_inf=l_inf,threshold=threshold,parallel_fusion=parallel_fusion)\n",
        "        write.writerows(final_result) # save result in csv\n",
        "\n",
        "  print('csv done for result without parallel fusion!!!')\n"
      ],
      "execution_count": null,
      "outputs": []
    }
  ]
}